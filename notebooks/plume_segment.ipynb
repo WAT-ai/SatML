{
 "cells": [
  {
   "cell_type": "code",
   "execution_count": null,
   "metadata": {},
   "outputs": [],
   "source": [
    "import sys\n",
    "sys.path.append('../')\n",
    "\n",
    "import numpy as np\n",
    "import tensorflow as tf\n",
    "import tensorflow.keras as keras\n",
    "\n",
    "from tensorflow.keras.callbacks import ReduceLROnPlateau\n",
    "from src.losses import dice_loss\n",
    "from models.cnn_model_factory import get_no_downsample_cnn_model\n",
    "\n",
    "np.random.seed(0)\n",
    "tf.random.set_seed(0)"
   ]
  },
  {
   "cell_type": "code",
   "execution_count": 3,
   "metadata": {},
   "outputs": [],
   "source": [
    "train_x_mmap = np.load('../data/train_x.npy', mmap_mode='r')\n",
    "train_y_mmap = np.load('../data/train_y.npy', mmap_mode='r')\n",
    "test_x_mmap = np.load('../data/test_x.npy', mmap_mode='r')\n",
    "test_y_mmap = np.load('../data/test_y.npy', mmap_mode='r')"
   ]
  },
  {
   "cell_type": "code",
   "execution_count": null,
   "metadata": {},
   "outputs": [],
   "source": [
    "def resize_data_and_labels(x, y, reshape_size):\n",
    "    x_resized = tf.image.resize(x, reshape_size)\n",
    "    y_resized = tf.image.resize(y[..., np.newaxis], reshape_size)\n",
    "\n",
    "    return x_resized, y_resized\n",
    "\n",
    "RESIZE_SHAPE = (256, 256)\n",
    "\n",
    "train_x_mmap, train_y_mmap = resize_data_and_labels(train_x_mmap, train_y_mmap, RESIZE_SHAPE)\n",
    "test_x_mmap, test_y_mmap = resize_data_and_labels(test_x_mmap, test_y_mmap, RESIZE_SHAPE)"
   ]
  },
  {
   "cell_type": "code",
   "execution_count": 5,
   "metadata": {},
   "outputs": [],
   "source": [
    "def get_global_normalization_mean_std(data):\n",
    "    mean_global = np.mean(data, axis=(0, 1, 2), keepdims=True)\n",
    "    std_global = np.std(data, axis=(0, 1, 2), keepdims=True)\n",
    "\n",
    "    std_global[std_global == 0] = 1.0\n",
    "    return mean_global, std_global\n",
    "\n",
    "NORM_MEAN, NORM_STD = get_global_normalization_mean_std(train_x_mmap)"
   ]
  },
  {
   "cell_type": "code",
   "execution_count": 6,
   "metadata": {},
   "outputs": [],
   "source": [
    "# Generator function for training data\n",
    "def train_generator(norm_mean, norm_std):\n",
    "    def generator():\n",
    "        for i in range(len(train_x_mmap)):\n",
    "            image = train_x_mmap[i]\n",
    "            label = train_y_mmap[i]\n",
    "            \n",
    "            # Resize using TensorFlow\n",
    "            # image_resized = tf.image.resize(image, resize_shape)\n",
    "            # label_resized = tf.image.resize(label, resize_shape)\n",
    "            \n",
    "            yield (image - norm_mean) / norm_std, label\n",
    "    return generator\n",
    "\n",
    "# Generator function for testing data\n",
    "def test_generator(norm_mean, norm_std):\n",
    "    def generator():\n",
    "        for i in range(len(test_x_mmap)):\n",
    "            image = test_x_mmap[i]\n",
    "            label = test_y_mmap[i]\n",
    "            \n",
    "            # Resize using TensorFlow\n",
    "            # image_resized = tf.image.resize(image, resize_shape)\n",
    "            # label_resized = tf.image.resize(label, resize_shape)\n",
    "            \n",
    "            yield (image - norm_mean) / norm_std, label\n",
    "    return generator\n",
    "\n",
    "train_dataset = tf.data.Dataset.from_generator(\n",
    "  generator=train_generator(NORM_MEAN[0], NORM_STD[0]),\n",
    "  output_signature=(\n",
    "    tf.TensorSpec(shape=RESIZE_SHAPE + (16, ), dtype=tf.float32),  # Images\n",
    "    tf.TensorSpec(shape=RESIZE_SHAPE + (1, ), dtype=tf.float32)   # Labels\n",
    "  )\n",
    ")\n",
    "\n",
    "test_dataset = tf.data.Dataset.from_generator(\n",
    "  generator=test_generator(NORM_MEAN[0], NORM_STD[0]),\n",
    "  output_signature=(\n",
    "    tf.TensorSpec(shape=RESIZE_SHAPE + (16, ), dtype=tf.float32),  # Images\n",
    "    tf.TensorSpec(shape=RESIZE_SHAPE + (1, ), dtype=tf.float32)   # Labels\n",
    "  )\n",
    ")\n",
    "\n",
    "# limit train dataset to images with plumes (due to severe class imbalance)\n",
    "train_dataset = train_dataset.filter(lambda x, y: tf.reduce_any(y > 0.0))\n",
    "\n",
    "batch_size = 32\n",
    "train_dataset = train_dataset.shuffle(buffer_size=1000).batch(batch_size).prefetch(tf.data.AUTOTUNE).cache()\n",
    "test_dataset = test_dataset.batch(batch_size).prefetch(tf.data.AUTOTUNE).cache()"
   ]
  },
  {
   "cell_type": "code",
   "execution_count": 7,
   "metadata": {},
   "outputs": [],
   "source": [
    "model = get_no_downsample_cnn_model(input_shape=RESIZE_SHAPE + (16,), output_channels=1, loss_weight=5.0)"
   ]
  },
  {
   "cell_type": "code",
   "execution_count": null,
   "metadata": {},
   "outputs": [],
   "source": [
    "history = model.fit(\n",
    "    train_dataset,\n",
    "    validation_data=(test_dataset),\n",
    "    epochs=200,\n",
    "    callbacks=[\n",
    "        ReduceLROnPlateau(\n",
    "            monitor='val_loss',\n",
    "            patience=75,\n",
    "            verbose=1\n",
    "        )\n",
    "    ]\n",
    ")"
   ]
  },
  {
   "cell_type": "code",
   "execution_count": null,
   "metadata": {},
   "outputs": [],
   "source": [
    "test_predictions = model.predict(test_dataset)"
   ]
  },
  {
   "cell_type": "code",
   "execution_count": 10,
   "metadata": {},
   "outputs": [],
   "source": [
    "import matplotlib.pyplot as plt\n",
    "from ipywidgets import interact\n",
    "# %matplotlib notebook\n",
    "\n",
    "\n",
    "def view_predictions_and_labels(test_predictions, test_y_resized, images):\n",
    "    \"\"\"\n",
    "    Visualizes the predictions and labels side by side with a slider to select the index along the 0th axis.\n",
    "\n",
    "    Parameters:\n",
    "    - test_predictions: A NumPy array or TensorFlow tensor containing the predicted images.\n",
    "    - test_y_resized: A NumPy array or TensorFlow tensor containing the ground truth images.\n",
    "    \"\"\"\n",
    "    # Ensure inputs are NumPy arrays\n",
    "    if not isinstance(test_predictions, np.ndarray):\n",
    "        test_predictions = test_predictions.numpy()\n",
    "    if not isinstance(test_y_resized, np.ndarray):\n",
    "        test_y_resized = test_y_resized.numpy()\n",
    "    if not isinstance(images, np.ndarray):\n",
    "        images = images.numpy()\n",
    "    \n",
    "    # Define a function to update the plots based on the slider index\n",
    "    def update(index):\n",
    "        plt.figure(figsize=(10, 5))\n",
    "        \n",
    "        # Plot the prediction\n",
    "        plt.subplot(1, 3, 1)\n",
    "        plt.imshow(test_predictions[index, :, :, 0], cmap=\"viridis\", vmin=0, vmax=1)\n",
    "        plt.title(\"Prediction\")\n",
    "        plt.axis(\"off\")\n",
    "        \n",
    "        # Plot the ground truth\n",
    "        plt.subplot(1, 3, 2)\n",
    "        plt.imshow(test_y_resized[index, :, :, 0], cmap=\"viridis\", vmin=0, vmax=1)\n",
    "        plt.title(\"Ground Truth\")\n",
    "        plt.axis(\"off\")\n",
    "        \n",
    "        plt.subplot(1, 3, 3)\n",
    "        plt.imshow(images[index, :, :, 0], cmap=\"viridis\")\n",
    "        plt.title(\"First channel\")\n",
    "        plt.axis(\"off\")\n",
    "        \n",
    "        plt.suptitle(f'Dice: {dice_loss(test_y_resized[index], test_predictions[index])}')\n",
    "        \n",
    "        plt.tight_layout()\n",
    "        # plt.show()\n",
    "    \n",
    "    # Create the interactive slider\n",
    "    interact(update, index=(0, test_predictions.shape[0] - 1))"
   ]
  },
  {
   "cell_type": "code",
   "execution_count": null,
   "metadata": {},
   "outputs": [],
   "source": [
    "view_predictions_and_labels(test_predictions, tf.cast((test_y_mmap > 0.5), tf.float32), test_x_mmap)"
   ]
  }
 ],
 "metadata": {
  "kernelspec": {
   "display_name": "venv",
   "language": "python",
   "name": "python3"
  },
  "language_info": {
   "codemirror_mode": {
    "name": "ipython",
    "version": 3
   },
   "file_extension": ".py",
   "mimetype": "text/x-python",
   "name": "python",
   "nbconvert_exporter": "python",
   "pygments_lexer": "ipython3",
   "version": "3.11.11"
  }
 },
 "nbformat": 4,
 "nbformat_minor": 2
}
