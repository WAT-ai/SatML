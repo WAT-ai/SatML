{
 "cells": [
  {
   "cell_type": "code",
   "execution_count": 1,
   "metadata": {},
   "outputs": [],
   "source": [
    "import os\n",
    "os.chdir('../')\n",
    "\n",
    "import pandas as pd\n",
    "\n",
    "from src.file_utils import get_available_datasets, read_dataset_csv"
   ]
  },
  {
   "cell_type": "code",
   "execution_count": 2,
   "metadata": {},
   "outputs": [
    {
     "name": "stdout",
     "output_type": "stream",
     "text": [
      "Available datasets: ['train_easy']\n"
     ]
    }
   ],
   "source": [
    "raw_data_dir = './data/raw_data'\n",
    "dataset_of_interest = 'train_easy'\n",
    "\n",
    "available_datasets = get_available_datasets(raw_data_dir)\n",
    "\n",
    "print(f\"Available datasets: {available_datasets}\")\n",
    "assert dataset_of_interest in available_datasets, f\"{dataset_of_interest} set not found in the available datasets\""
   ]
  },
  {
   "cell_type": "code",
   "execution_count": 3,
   "metadata": {},
   "outputs": [],
   "source": [
    "train_easy_df = read_dataset_csv(raw_data_dir, dataset_of_interest)"
   ]
  },
  {
   "cell_type": "code",
   "execution_count": 4,
   "metadata": {},
   "outputs": [
    {
     "data": {
      "text/html": [
       "<div>\n",
       "<style scoped>\n",
       "    .dataframe tbody tr th:only-of-type {\n",
       "        vertical-align: middle;\n",
       "    }\n",
       "\n",
       "    .dataframe tbody tr th {\n",
       "        vertical-align: top;\n",
       "    }\n",
       "\n",
       "    .dataframe thead th {\n",
       "        text-align: right;\n",
       "    }\n",
       "</style>\n",
       "<table border=\"1\" class=\"dataframe\">\n",
       "  <thead>\n",
       "    <tr style=\"text-align: right;\">\n",
       "      <th></th>\n",
       "      <th>id</th>\n",
       "      <th>candidate_id</th>\n",
       "      <th>qplume</th>\n",
       "      <th>name</th>\n",
       "      <th>folder</th>\n",
       "      <th>date</th>\n",
       "      <th>datetime</th>\n",
       "      <th>window_col_off</th>\n",
       "      <th>window_row_off</th>\n",
       "      <th>window_width</th>\n",
       "      <th>window_height</th>\n",
       "      <th>subset</th>\n",
       "      <th>difficulty</th>\n",
       "      <th>label_path</th>\n",
       "      <th>has_plume</th>\n",
       "      <th>window_labels</th>\n",
       "    </tr>\n",
       "  </thead>\n",
       "  <tbody>\n",
       "    <tr>\n",
       "      <th>0</th>\n",
       "      <td>ang20190922t192642_r2048_c0_w512_h512</td>\n",
       "      <td>NaN</td>\n",
       "      <td>0.0</td>\n",
       "      <td>ang20190922t192642</td>\n",
       "      <td>/AVIRISNG/Permian2019/ang20190922t192642_r2048...</td>\n",
       "      <td>2019-09-22</td>\n",
       "      <td>2019-09-22 19:26:42+00:00</td>\n",
       "      <td>0</td>\n",
       "      <td>0</td>\n",
       "      <td>512</td>\n",
       "      <td>512</td>\n",
       "      <td>train</td>\n",
       "      <td>random</td>\n",
       "      <td>NaN</td>\n",
       "      <td>False</td>\n",
       "      <td>Window(col_off=0, row_off=0, width=512, height...</td>\n",
       "    </tr>\n",
       "    <tr>\n",
       "      <th>1</th>\n",
       "      <td>ang20190922t192642_r10240_c0_w512_h512</td>\n",
       "      <td>NaN</td>\n",
       "      <td>0.0</td>\n",
       "      <td>ang20190922t192642</td>\n",
       "      <td>/AVIRISNG/Permian2019/ang20190922t192642_r1024...</td>\n",
       "      <td>2019-09-22</td>\n",
       "      <td>2019-09-22 19:26:42+00:00</td>\n",
       "      <td>0</td>\n",
       "      <td>0</td>\n",
       "      <td>512</td>\n",
       "      <td>512</td>\n",
       "      <td>train</td>\n",
       "      <td>random</td>\n",
       "      <td>NaN</td>\n",
       "      <td>False</td>\n",
       "      <td>Window(col_off=0, row_off=0, width=512, height...</td>\n",
       "    </tr>\n",
       "    <tr>\n",
       "      <th>2</th>\n",
       "      <td>ang20190922t194340_r3328_c0_w512_h512</td>\n",
       "      <td>NaN</td>\n",
       "      <td>0.0</td>\n",
       "      <td>ang20190922t194340</td>\n",
       "      <td>/AVIRISNG/Permian2019/ang20190922t194340_r3328...</td>\n",
       "      <td>2019-09-22</td>\n",
       "      <td>2019-09-22 19:43:40+00:00</td>\n",
       "      <td>0</td>\n",
       "      <td>0</td>\n",
       "      <td>512</td>\n",
       "      <td>512</td>\n",
       "      <td>train</td>\n",
       "      <td>random</td>\n",
       "      <td>NaN</td>\n",
       "      <td>False</td>\n",
       "      <td>Window(col_off=0, row_off=0, width=512, height...</td>\n",
       "    </tr>\n",
       "    <tr>\n",
       "      <th>3</th>\n",
       "      <td>ang20190923t170747_r10752_c256_w512_h512</td>\n",
       "      <td>NaN</td>\n",
       "      <td>0.0</td>\n",
       "      <td>ang20190923t170747</td>\n",
       "      <td>/AVIRISNG/Permian2019/ang20190923t170747_r1075...</td>\n",
       "      <td>2019-09-23</td>\n",
       "      <td>2019-09-23 17:07:47+00:00</td>\n",
       "      <td>0</td>\n",
       "      <td>0</td>\n",
       "      <td>512</td>\n",
       "      <td>512</td>\n",
       "      <td>train</td>\n",
       "      <td>random</td>\n",
       "      <td>NaN</td>\n",
       "      <td>False</td>\n",
       "      <td>Window(col_off=0, row_off=0, width=512, height...</td>\n",
       "    </tr>\n",
       "    <tr>\n",
       "      <th>4</th>\n",
       "      <td>ang20190923t174142_r4096_c0_w512_h512</td>\n",
       "      <td>NaN</td>\n",
       "      <td>0.0</td>\n",
       "      <td>ang20190923t174142</td>\n",
       "      <td>/AVIRISNG/Permian2019/ang20190923t174142_r4096...</td>\n",
       "      <td>2019-09-23</td>\n",
       "      <td>2019-09-23 17:41:42+00:00</td>\n",
       "      <td>0</td>\n",
       "      <td>0</td>\n",
       "      <td>512</td>\n",
       "      <td>512</td>\n",
       "      <td>train</td>\n",
       "      <td>hard</td>\n",
       "      <td>NaN</td>\n",
       "      <td>False</td>\n",
       "      <td>Window(col_off=0, row_off=0, width=512, height...</td>\n",
       "    </tr>\n",
       "  </tbody>\n",
       "</table>\n",
       "</div>"
      ],
      "text/plain": [
       "                                         id candidate_id  qplume  \\\n",
       "0     ang20190922t192642_r2048_c0_w512_h512          NaN     0.0   \n",
       "1    ang20190922t192642_r10240_c0_w512_h512          NaN     0.0   \n",
       "2     ang20190922t194340_r3328_c0_w512_h512          NaN     0.0   \n",
       "3  ang20190923t170747_r10752_c256_w512_h512          NaN     0.0   \n",
       "4     ang20190923t174142_r4096_c0_w512_h512          NaN     0.0   \n",
       "\n",
       "                 name                                             folder  \\\n",
       "0  ang20190922t192642  /AVIRISNG/Permian2019/ang20190922t192642_r2048...   \n",
       "1  ang20190922t192642  /AVIRISNG/Permian2019/ang20190922t192642_r1024...   \n",
       "2  ang20190922t194340  /AVIRISNG/Permian2019/ang20190922t194340_r3328...   \n",
       "3  ang20190923t170747  /AVIRISNG/Permian2019/ang20190923t170747_r1075...   \n",
       "4  ang20190923t174142  /AVIRISNG/Permian2019/ang20190923t174142_r4096...   \n",
       "\n",
       "         date                   datetime  window_col_off  window_row_off  \\\n",
       "0  2019-09-22  2019-09-22 19:26:42+00:00               0               0   \n",
       "1  2019-09-22  2019-09-22 19:26:42+00:00               0               0   \n",
       "2  2019-09-22  2019-09-22 19:43:40+00:00               0               0   \n",
       "3  2019-09-23  2019-09-23 17:07:47+00:00               0               0   \n",
       "4  2019-09-23  2019-09-23 17:41:42+00:00               0               0   \n",
       "\n",
       "   window_width  window_height subset difficulty label_path  has_plume  \\\n",
       "0           512            512  train     random        NaN      False   \n",
       "1           512            512  train     random        NaN      False   \n",
       "2           512            512  train     random        NaN      False   \n",
       "3           512            512  train     random        NaN      False   \n",
       "4           512            512  train       hard        NaN      False   \n",
       "\n",
       "                                       window_labels  \n",
       "0  Window(col_off=0, row_off=0, width=512, height...  \n",
       "1  Window(col_off=0, row_off=0, width=512, height...  \n",
       "2  Window(col_off=0, row_off=0, width=512, height...  \n",
       "3  Window(col_off=0, row_off=0, width=512, height...  \n",
       "4  Window(col_off=0, row_off=0, width=512, height...  "
      ]
     },
     "execution_count": 4,
     "metadata": {},
     "output_type": "execute_result"
    }
   ],
   "source": [
    "train_easy_df.head()"
   ]
  },
  {
   "cell_type": "markdown",
   "metadata": {},
   "source": [
    "### TODO - plot hyper spectral images and associated masks"
   ]
  },
  {
   "cell_type": "code",
   "execution_count": 5,
   "metadata": {},
   "outputs": [],
   "source": [
    "from src.image_utils import plot_tiff_images\n",
    "import random"
   ]
  },
  {
   "cell_type": "code",
   "execution_count": 6,
   "metadata": {},
   "outputs": [
    {
     "name": "stdout",
     "output_type": "stream",
     "text": [
      "Extracted 16/16 images from ang20191016t163955_r7680_c256_w512_h512 directory.\n"
     ]
    },
    {
     "data": {
      "application/vnd.jupyter.widget-view+json": {
       "model_id": "54e3706070cb41698b1f2b12dd17046f",
       "version_major": 2,
       "version_minor": 0
      },
      "text/plain": [
       "interactive(children=(IntSlider(value=7, description='idx', max=15), Output()), _dom_classes=('widget-interact…"
      ]
     },
     "metadata": {},
     "output_type": "display_data"
    }
   ],
   "source": [
    "# Get sample image to display\n",
    "test_dir = random.choice(train_easy_df['id'].values)\n",
    "\n",
    "plot_tiff_images(test_dir)"
   ]
  }
 ],
 "metadata": {
  "kernelspec": {
   "display_name": "venv",
   "language": "python",
   "name": "python3"
  },
  "language_info": {
   "codemirror_mode": {
    "name": "ipython",
    "version": 3
   },
   "file_extension": ".py",
   "mimetype": "text/x-python",
   "name": "python",
   "nbconvert_exporter": "python",
   "pygments_lexer": "ipython3",
   "version": "3.11.6"
  }
 },
 "nbformat": 4,
 "nbformat_minor": 2
}
